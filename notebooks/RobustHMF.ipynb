{
 "cells": [
  {
   "cell_type": "markdown",
   "metadata": {
    "id": "oai5DwmLtA-H"
   },
   "source": [
    "# Robust Heteroskedastic Matrix Factorization\n",
    "A robust-PCA-like model that knows about observational uncertainties\n",
    "\n",
    "## Author:\n",
    "- **David W. Hogg** (NYU) (MPIA) (Flatiron)\n",
    "- (with help from Claude)\n",
    "\n",
    "## Dependencies:\n",
    "- `pip3 install jax matplotlib astropy astroquery`\n",
    "\n",
    "## Issues:\n",
    "- Assumes rectangular data with known uncertainties."
   ]
  },
  {
   "cell_type": "code",
   "execution_count": 1,
   "metadata": {
    "id": "PheEt-VFs-cP"
   },
   "outputs": [],
   "source": [
    "# jax related\n",
    "import jax.numpy as jnp\n",
    "import jax\n",
    "jax.config.update(\"jax_enable_x64\", True)"
   ]
  },
  {
   "cell_type": "code",
   "execution_count": 2,
   "metadata": {
    "id": "PNHWYTqOT0gH"
   },
   "outputs": [
    {
     "name": "stderr",
     "output_type": "stream",
     "text": [
      "/Users/dhogg/Library/Python/3.9/lib/python/site-packages/urllib3/__init__.py:35: NotOpenSSLWarning: urllib3 v2 only supports OpenSSL 1.1.1+, currently the 'ssl' module is compiled with 'LibreSSL 2.8.3'. See: https://github.com/urllib3/urllib3/issues/3020\n",
      "  warnings.warn(\n"
     ]
    }
   ],
   "source": [
    "# data-gathering and plotting related\n",
    "import os\n",
    "import numpy as np\n",
    "import matplotlib.pyplot as plt\n",
    "import clod\n",
    "plt.rcParams['figure.figsize'] = (8, 4.5)\n",
    "plt.rcParams['font.size'] = 12"
   ]
  },
  {
   "cell_type": "code",
   "execution_count": 3,
   "metadata": {
    "id": "Uz35ejRgXYIy"
   },
   "outputs": [
    {
     "name": "stdout",
     "output_type": "stream",
     "text": [
      "INFO: Query finished. [astroquery.utils.tap.core]\n",
      "\n",
      "Found 362 sources matching criteria\n"
     ]
    }
   ],
   "source": [
    "params = {\n",
    "    'teff_min': 8000,\n",
    "    'teff_max': 9000,\n",
    "    'logg_min': 1.0,\n",
    "    'logg_max': 5.0,\n",
    "    'grvs_mag_max': 10.0,\n",
    "    'n_sources': 1000\n",
    "}\n",
    "sources = clod.find_rvs_sources_gspphot(**params)"
   ]
  },
  {
   "cell_type": "code",
   "execution_count": 4,
   "metadata": {
    "id": "MlynVJz1X4ai"
   },
   "outputs": [
    {
     "name": "stdout",
     "output_type": "stream",
     "text": [
      "\n",
      "Downloading RVS spectra for up to 362 sources...\n",
      "Progress: 0/362 spectra processed...\n",
      "Progress: 10/362 spectra processed...\n",
      "Progress: 20/362 spectra processed...\n",
      "Progress: 30/362 spectra processed...\n",
      "Progress: 40/362 spectra processed...\n",
      "Progress: 50/362 spectra processed...\n",
      "Progress: 60/362 spectra processed...\n",
      "Progress: 70/362 spectra processed...\n",
      "Progress: 80/362 spectra processed...\n",
      "Progress: 90/362 spectra processed...\n",
      "Progress: 100/362 spectra processed...\n",
      "Progress: 110/362 spectra processed...\n",
      "Progress: 120/362 spectra processed...\n",
      "Progress: 130/362 spectra processed...\n",
      "Progress: 140/362 spectra processed...\n",
      "Progress: 150/362 spectra processed...\n",
      "Progress: 160/362 spectra processed...\n",
      "Progress: 170/362 spectra processed...\n",
      "Progress: 180/362 spectra processed...\n",
      "Progress: 190/362 spectra processed...\n",
      "Progress: 200/362 spectra processed...\n",
      "Progress: 210/362 spectra processed...\n",
      "Progress: 220/362 spectra processed...\n",
      "Progress: 230/362 spectra processed...\n",
      "Progress: 240/362 spectra processed...\n",
      "Progress: 250/362 spectra processed...\n",
      "Progress: 260/362 spectra processed...\n",
      "Progress: 270/362 spectra processed...\n",
      "Progress: 280/362 spectra processed...\n",
      "Progress: 290/362 spectra processed...\n",
      "Progress: 300/362 spectra processed...\n",
      "Progress: 310/362 spectra processed...\n",
      "Progress: 320/362 spectra processed...\n",
      "Progress: 330/362 spectra processed...\n",
      "Progress: 340/362 spectra processed...\n",
      "Progress: 350/362 spectra processed...\n",
      "Progress: 360/362 spectra processed...\n",
      "\n",
      "Successfully downloaded 362 spectra\n"
     ]
    }
   ],
   "source": [
    "n_sources = min(params['n_sources'], len(sources))\n",
    "spectra_data = clod.download_multiple_spectra(sources, max_spectra=n_sources)"
   ]
  },
  {
   "cell_type": "code",
   "execution_count": 5,
   "metadata": {
    "id": "jyILviidYLiw"
   },
   "outputs": [
    {
     "name": "stdout",
     "output_type": "stream",
     "text": [
      "\n",
      "Bad pixel statistics:\n",
      "  Spectra with bad pixels: 204/362\n",
      "  Total bad pixels: 1023\n",
      "  Bad pixels replaced with: 1.0\n",
      "  Bad weights (inverse variances) replaced with: 0\n",
      "\n",
      "Spectral matrix statistics:\n",
      "  min flux: 0.2491\n",
      "  max flux: 1.3098\n",
      "  mean flux: 0.9539\n",
      "  std flux: 0.0624\n",
      "  median uncertainty: 0.0092\n",
      "  flux contains NaN: False\n",
      "  flux contains Inf: False\n",
      "  invvar zeros: 1023\n"
     ]
    }
   ],
   "source": [
    "Y, wavelength_grid, source_ids, W = clod.create_spectral_matrices(spectra_data)\n",
    "print(f\"\\nSpectral matrix statistics:\")\n",
    "print(f\"  min flux: {np.min(Y):.4f}\")\n",
    "print(f\"  max flux: {np.max(Y):.4f}\")\n",
    "print(f\"  mean flux: {np.mean(Y):.4f}\")\n",
    "print(f\"  std flux: {np.std(Y):.4f}\")\n",
    "print(f\"  median uncertainty: {1. / np.sqrt(np.median(W)):.4f}\")\n",
    "print(f\"  flux contains NaN: {np.any(np.isnan(Y))}\")\n",
    "print(f\"  flux contains Inf: {np.any(np.isinf(Y))}\")\n",
    "print(f\"  invvar zeros: {np.sum(W < 1.e0)}\")"
   ]
  },
  {
   "cell_type": "code",
   "execution_count": 6,
   "metadata": {
    "id": "kILOH-tBtao-"
   },
   "outputs": [],
   "source": [
    "class RHMF():\n",
    "    def __init__(self, rank, nsigma):\n",
    "        self.K = int(rank)\n",
    "        self.nsigma = float(nsigma)\n",
    "        self.Q2 = self.nsigma ** 2\n",
    "        self.trained = False\n",
    "\n",
    "    def train(self, data, weights):\n",
    "        \"\"\"\n",
    "        # inputs:\n",
    "        `data`:     (N, M) array of observations.\n",
    "        `weights`:  units of (and equivalent to) inverse uncertainty variances.\n",
    "        \"\"\"\n",
    "        self.trained = False\n",
    "        assert np.sum(jnp.isnan(data)) == 0\n",
    "        assert np.sum(jnp.isnan(weights)) == 0\n",
    "        self.Y = jnp.array(data)\n",
    "        self.input_W = jnp.array(weights)\n",
    "        assert self.Y.shape == self.input_W.shape\n",
    "        self.N, self.M = self.Y.shape\n",
    "        self.converged = False\n",
    "        self.n_iter = 0\n",
    "        self._initialize()\n",
    "        print(\"train(): before starting:\", self.objective(), self.original_objective())\n",
    "        while not self.converged:\n",
    "            self._A_step()\n",
    "            self._G_step()\n",
    "            self._affine()\n",
    "            self._update_W()\n",
    "            self.n_iter += 1\n",
    "            if self.n_iter % 10 == 0:\n",
    "                print(\"train(): after iteration\", self.n_iter, \":\",\n",
    "                      self.objective(), self.original_objective())\n",
    "        print(\"train(): converged at iteration\", self.n_iter, \":\",\n",
    "              self.objective(), self.original_objective())\n",
    "        self.trained = True\n",
    "\n",
    "    def test(self, ystar, wstar):\n",
    "        \"\"\"\n",
    "        # inputs:\n",
    "        `ystar`:     (M, ) array for one observation.\n",
    "        `wstar`:     units of (and equivalent to) inverse uncertainty variances.\n",
    "        \"\"\"\n",
    "        assert self.trained\n",
    "        assert np.sum(ystar) == 0\n",
    "        assert np.sum(wstar) == 0\n",
    "        assert ystar.shape == (self.M, )\n",
    "        assert wstar.shape == (self.M, )\n",
    "        self.converged = False\n",
    "        self.n_iter = 0\n",
    "        w = 1. * wstar\n",
    "        while not self.converged:\n",
    "            a = self._one_star_A_step(ystar, w)\n",
    "            w = self._update_one_W(ystar, wstar, a)\n",
    "            assert False # need convergence criterion\n",
    "            self.n_iter += 1\n",
    "        print(\"test(): converged at iteration:\", self.n_iter, \":\",\n",
    "              self.one_star_objective(ystar, w, a),\n",
    "              self.one_star_objective(ystar, wstar, a))\n",
    "\n",
    "    def _initialize(self):\n",
    "        \"\"\"\n",
    "        # bugs:\n",
    "        - Consider switching SVD to a fast PCA implementation?\n",
    "        \"\"\"\n",
    "        self.W = 1. * self.input_W # copy not reference\n",
    "        u, s, v = jnp.linalg.svd(Y, full_matrices=False) # maybe slow\n",
    "        self.A = (u[:,:self.K] * s[:self.K]).T\n",
    "        self.G = v[:self.K,:]\n",
    "        print(\"_initialize():\", self.A.shape, self.G.shape)\n",
    "\n",
    "    def _one_star_A_step(self, y1, w1):\n",
    "        XTCinvX = self.G * w1 @ self.G.T\n",
    "        XTCinvY = self.G * w1 @ y1\n",
    "        return jnp.linalg.solve(XTCinvX, XTCinvY)\n",
    "\n",
    "    def _one_star_G_step(self, y1, w1):\n",
    "        XTCinvX = self.A * w1 @ self.A.T\n",
    "        XTCinvY = self.A * w1 @ y1\n",
    "        return jnp.linalg.solve(XTCinvX, XTCinvY)\n",
    "\n",
    "    def _A_step(self):\n",
    "        foo = self.objective()\n",
    "        self.A = jax.vmap(self._one_star_A_step)(self.Y, self.W).T\n",
    "        bar = self.objective()\n",
    "        if foo < bar:\n",
    "            print(\"_A_step(): ERROR: objective got worse\", foo, bar)\n",
    "\n",
    "    def _G_step(self):\n",
    "        foo = self.objective()\n",
    "        self.G = jax.vmap(self._one_star_G_step)(self.Y.T, self.W.T).T\n",
    "        bar = self.objective()\n",
    "        if foo < bar:\n",
    "            print(\"_G_step(): ERROR: objective got worse\", foo, bar)\n",
    "        if foo - bar < 1.e-3: # magic\n",
    "            self.converged = True\n",
    "\n",
    "    def _affine(self):\n",
    "        \"\"\"\n",
    "        # bugs:\n",
    "        - Consider switching SVD to a fast PCA implementation?\n",
    "        \"\"\"\n",
    "        u, s, v = jnp.linalg.svd(self.A.T @ self.G, full_matrices=False)\n",
    "        self.A = (u[:,:self.K] * s[:self.K]).T\n",
    "        self.G = v[:self.K,:]\n",
    "\n",
    "    def synthesis(self):\n",
    "        return self.A.T @ self.G\n",
    "\n",
    "    def resid(self):\n",
    "        return self.Y - self.synthesis()\n",
    "\n",
    "    def objective(self):\n",
    "        return jnp.sum(self.W * self.resid() ** 2)\n",
    "\n",
    "    def original_chi(self):\n",
    "        return jnp.sqrt(self.input_W) * self.resid()\n",
    "\n",
    "    def original_objective(self):\n",
    "        return jnp.sum(self.input_W * self.resid() ** 2)\n",
    "\n",
    "    def _update_W(self):\n",
    "        self.W = self.input_W * self.Q2 / (self.input_W * self.resid() ** 2 + self.Q2)"
   ]
  },
  {
   "cell_type": "code",
   "execution_count": null,
   "metadata": {
    "id": "9kxBDYApYwL-"
   },
   "outputs": [
    {
     "name": "stdout",
     "output_type": "stream",
     "text": [
      "_initialize(): (15, 362) (15, 2401)\n",
      "train(): before starting: 1158390.3975013448 1158390.3975013448\n"
     ]
    }
   ],
   "source": [
    "model = RHMF(15, 2.5)\n",
    "model.train(Y, W)"
   ]
  },
  {
   "cell_type": "code",
   "execution_count": null,
   "metadata": {
    "id": "2BCii8esZsIx"
   },
   "outputs": [],
   "source": [
    "for k, g in enumerate(model.G):\n",
    "    plt.plot(wavelength_grid, g + 0.15 * k)"
   ]
  },
  {
   "cell_type": "code",
   "execution_count": null,
   "metadata": {
    "id": "lqNbmMVFbbbP"
   },
   "outputs": [],
   "source": [
    "chi = model.original_chi()\n",
    "chi_squared = np.sum(chi ** 2, axis=1)\n",
    "resid = model.resid()\n",
    "mse = np.mean(resid ** 2, axis=1)\n",
    "indx = np.argsort(-chi_squared)\n",
    "print(chi.shape, indx.shape)"
   ]
  },
  {
   "cell_type": "code",
   "execution_count": null,
   "metadata": {
    "id": "jJVBUCQbcnn0"
   },
   "outputs": [],
   "source": [
    "plotcache = \"./rvs_plot_cache\"\n",
    "os.makedirs(plotcache, exist_ok=True)\n",
    "\n",
    "for ii in range(len(Y)):\n",
    "    f = plt.figure()\n",
    "    plt.plot(wavelength_grid, Y[ii], \"k-\")\n",
    "    plt.plot(wavelength_grid, resid[ii], \"k-\")\n",
    "    plt.title(f\"{source_ids[ii]}\")\n",
    "    plt.savefig(f\"{plotcache}/{source_ids[ii]}.png\")\n",
    "    if ii % 64 == 0:\n",
    "        plt.show()\n",
    "    plt.close(f)"
   ]
  },
  {
   "cell_type": "code",
   "execution_count": null,
   "metadata": {
    "id": "qahI_xjbc3EA"
   },
   "outputs": [],
   "source": []
  }
 ],
 "metadata": {
  "colab": {
   "authorship_tag": "ABX9TyP+aB/is81+OGHVYDpVC1JW",
   "include_colab_link": true,
   "provenance": []
  },
  "kernelspec": {
   "display_name": "Python 3 (ipykernel)",
   "language": "python",
   "name": "python3"
  },
  "language_info": {
   "codemirror_mode": {
    "name": "ipython",
    "version": 3
   },
   "file_extension": ".py",
   "mimetype": "text/x-python",
   "name": "python",
   "nbconvert_exporter": "python",
   "pygments_lexer": "ipython3",
   "version": "3.9.6"
  }
 },
 "nbformat": 4,
 "nbformat_minor": 4
}
