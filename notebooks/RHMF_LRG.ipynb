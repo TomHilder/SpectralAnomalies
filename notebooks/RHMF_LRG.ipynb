{
 "cells": [
  {
   "cell_type": "markdown",
   "id": "79318e9a-bfd5-40f8-92a6-8421f7e1b5f4",
   "metadata": {},
   "source": [
    "# RHMF on SDSS-Classic LRGs\n",
    "Looking for second redshifts, maybe?\n",
    "\n",
    "## Author:\n",
    "- **David W. Hogg** (NYU) (MPIA) (Flatiron)\n",
    "- with help from **Claude** (Anthropic) and consulting from **Hans-Walter Rix** (MPIA)\n",
    "\n",
    "## License:\n",
    "Copyright 2025 the author. This code is released for re-use under the open-source *MIT License*.\n",
    "\n",
    "## Issues:\n",
    "- Test step not running yet.\n",
    "- How to select interesting objects after test."
   ]
  },
  {
   "cell_type": "code",
   "execution_count": null,
   "id": "b79153f0-37ee-49bc-bd64-7acbd633752a",
   "metadata": {},
   "outputs": [],
   "source": [
    "import numpy as np\n",
    "import matplotlib as mpl\n",
    "import matplotlib.pylab as plt\n",
    "import clod_sdss_lrg as clod\n",
    "import rhmf"
   ]
  },
  {
   "cell_type": "code",
   "execution_count": null,
   "id": "0ff4e3c0-c9e9-439e-aa6c-3724b4efe364",
   "metadata": {},
   "outputs": [],
   "source": [
    "mpl.rcParams['figure.figsize'] = (12, 4)\n",
    "cache = './sdss_lrg_cache'"
   ]
  },
  {
   "cell_type": "code",
   "execution_count": null,
   "id": "692ceba9-edff-4212-9552-87093cc8a38f",
   "metadata": {},
   "outputs": [],
   "source": [
    "# get data\n",
    "\n",
    "# Initialize processor\n",
    "processor = clod.SDSSLRGProcessor(cache_dir=cache)\n",
    "\n",
    "# Process LRG sample (will use cache on subsequent runs)\n",
    "processed_spectra = processor.process_lrg_sample(max_objects=175, force_reprocess=True)\n",
    "\n",
    "# To clear cache:\n",
    "# processor.clear_cache()"
   ]
  },
  {
   "cell_type": "code",
   "execution_count": null,
   "id": "88d17a88-0cec-4b95-986f-227761ba1be7",
   "metadata": {},
   "outputs": [],
   "source": [
    "# put the data into rectangular objects\n",
    "objs = np.array([o for o,s in processed_spectra.items()])\n",
    "wavelengths = processor.rest_wave_grid\n",
    "Y = np.vstack([s['flux'] for o,s in processed_spectra.items()])\n",
    "W = np.vstack([s['ivar'] for o,s in processed_spectra.items()])\n",
    "print(objs.shape, wavelengths.shape, Y.shape, W.shape)"
   ]
  },
  {
   "cell_type": "code",
   "execution_count": null,
   "id": "ac47eb0d-0dbb-4157-ad20-ae789d13c276",
   "metadata": {},
   "outputs": [],
   "source": [
    "# check data\n",
    "print(np.sum(~ np.isfinite(Y)))\n",
    "print(np.sum(~ np.isfinite(W)))\n",
    "print(np.sum(W < 0.))"
   ]
  },
  {
   "cell_type": "code",
   "execution_count": null,
   "id": "9255a8e4-7e26-430d-b5ab-ef3ed25ca23e",
   "metadata": {},
   "outputs": [],
   "source": [
    "# set model parameters\n",
    "rank, nsigma = 10, 3.0\n",
    "model = rhmf.RHMF(rank, nsigma)"
   ]
  },
  {
   "cell_type": "code",
   "execution_count": null,
   "id": "3636e978-c315-4cad-b3f7-54aec04a02dc",
   "metadata": {},
   "outputs": [],
   "source": [
    "# censor data, given these model parameters\n",
    "goodobjects = (np.sum(W, axis=1) > (0.1 * np.median(W))) # magic\n",
    "goodobjects *= np.sum(W > 0, axis=1) > (rank + 5) # magic\n",
    "objs = objs[goodobjects]\n",
    "Y = Y[goodobjects]\n",
    "W = W[goodobjects]\n",
    "goodwavelengths = (np.sum(W, axis=0) > (0.1 * np.median(W))) # magic\n",
    "goodwavelengths *= np.sum(W > 0, axis=0) > (rank + 5) # magic\n",
    "wavelengths = wavelengths[goodwavelengths]\n",
    "Y = Y[:, goodwavelengths]\n",
    "W = W[:, goodwavelengths]\n",
    "print(objs.shape, wavelengths.shape, Y.shape, W.shape)"
   ]
  },
  {
   "cell_type": "code",
   "execution_count": null,
   "id": "8a5d4990-8818-41c0-b06d-40281d9b0da3",
   "metadata": {},
   "outputs": [],
   "source": [
    "model.train(Y, W, maxiter=600)"
   ]
  },
  {
   "cell_type": "code",
   "execution_count": null,
   "id": "3392a0c8-cb1a-422b-90f5-bee7e0ee99de",
   "metadata": {},
   "outputs": [],
   "source": [
    "synth = model.synthesis()\n",
    "resid = model.resid()\n",
    "for ii in range(len(Y)):\n",
    "    f = plt.figure()\n",
    "    plt.plot(wavelengths, Y[ii], \"k-\", lw=1, alpha=0.45)\n",
    "    plt.plot(wavelengths, synth[ii], \"r-\", lw=1, alpha=0.90)\n",
    "    plt.plot(wavelengths, resid[ii], \"k-\", lw=1, alpha=0.45)\n",
    "    plt.xlim(np.min(wavelengths), np.max(wavelengths))\n",
    "    foo = np.median(Y[ii])\n",
    "    plt.ylim(-0.2 * foo, 2.0 * foo)\n",
    "    plt.title(objs[ii])\n",
    "    plt.xlabel(\"wavelength\")\n",
    "    plt.ylabel(\"flux\")\n",
    "    plt.savefig(f\"{cache}/{objs[ii]}.png\")\n",
    "    plt.close(f)"
   ]
  },
  {
   "cell_type": "code",
   "execution_count": null,
   "id": "9ec84292-eb20-422d-b9aa-877bd42b9cbd",
   "metadata": {},
   "outputs": [],
   "source": []
  }
 ],
 "metadata": {
  "kernelspec": {
   "display_name": "Python 3 (ipykernel)",
   "language": "python",
   "name": "python3"
  },
  "language_info": {
   "codemirror_mode": {
    "name": "ipython",
    "version": 3
   },
   "file_extension": ".py",
   "mimetype": "text/x-python",
   "name": "python",
   "nbconvert_exporter": "python",
   "pygments_lexer": "ipython3",
   "version": "3.9.6"
  }
 },
 "nbformat": 4,
 "nbformat_minor": 5
}
