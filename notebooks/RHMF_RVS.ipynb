{
 "cells": [
  {
   "cell_type": "markdown",
   "metadata": {
    "id": "oai5DwmLtA-H"
   },
   "source": [
    "# Robust Heteroskedastic Matrix Factorization\n",
    "A robust-PCA-like model that knows about observational uncertainties\n",
    "\n",
    "## Author:\n",
    "- **David W. Hogg** (NYU) (MPIA) (Flatiron)\n",
    "- (with help from Claude)\n",
    "\n",
    "## Dependencies:\n",
    "- `pip3 install jax matplotlib astropy astroquery`\n",
    "\n",
    "## Issues:\n",
    "- Assumes (and gets) rectangular data with known uncertainties.\n",
    "- `train()` function is written but `test()` function is not."
   ]
  },
  {
   "cell_type": "code",
   "execution_count": null,
   "metadata": {
    "id": "PNHWYTqOT0gH"
   },
   "outputs": [],
   "source": [
    "import os\n",
    "import numpy as np\n",
    "import matplotlib.pyplot as plt\n",
    "import clod_gaia_rvs as clod\n",
    "import rhmf\n",
    "plt.rcParams['figure.figsize'] = (8, 4.5)\n",
    "plt.rcParams['font.size'] = 12"
   ]
  },
  {
   "cell_type": "code",
   "execution_count": null,
   "metadata": {
    "id": "Uz35ejRgXYIy"
   },
   "outputs": [],
   "source": [
    "params = {\n",
    "    'teff_min': 9000,\n",
    "    'teff_max': 20000,\n",
    "    'logg_min': 1.0,\n",
    "    'logg_max': 5.0,\n",
    "    'grvs_mag_max': 9.0,\n",
    "    'n_sources': 1000\n",
    "}\n",
    "sources = clod.find_rvs_sources_gspphot(**params)"
   ]
  },
  {
   "cell_type": "code",
   "execution_count": null,
   "metadata": {
    "id": "MlynVJz1X4ai"
   },
   "outputs": [],
   "source": [
    "n_sources = min(params['n_sources'], len(sources))\n",
    "spectra_data = clod.download_multiple_spectra(sources, max_spectra=n_sources)"
   ]
  },
  {
   "cell_type": "code",
   "execution_count": null,
   "metadata": {
    "id": "jyILviidYLiw"
   },
   "outputs": [],
   "source": [
    "Y, wavelength_grid, source_ids, W = clod.create_spectral_matrices(spectra_data)\n",
    "print(f\"\\nSpectral matrix statistics:\")\n",
    "print(f\"  shape: {Y.shape}\")\n",
    "print(f\"  min flux: {np.min(Y):.4f}\")\n",
    "print(f\"  max flux: {np.max(Y):.4f}\")\n",
    "print(f\"  mean flux: {np.mean(Y):.4f}\")\n",
    "print(f\"  std flux: {np.std(Y):.4f}\")\n",
    "print(f\"  median uncertainty: {1. / np.sqrt(np.median(W)):.4f}\")\n",
    "print(f\"  flux contains NaN: {np.any(np.isnan(Y))}\")\n",
    "print(f\"  flux contains Inf: {np.any(np.isinf(Y))}\")\n",
    "print(f\"  invvar zeros: {np.sum(W < 1.e0)}\")"
   ]
  },
  {
   "cell_type": "code",
   "execution_count": null,
   "metadata": {},
   "outputs": [],
   "source": [
    "# split data\n",
    "rng = np.random.default_rng(17)\n",
    "rr = rng.uniform(size=len(source_ids))\n",
    "A = rr < np.median(rr)\n",
    "B = np.logical_not(A)\n",
    "YA, WA, source_ids_A = Y[A], W[A], source_ids[A]\n",
    "YB, WB, source_ids_B = Y[B], W[B], source_ids[B]\n",
    "print(YA.shape, YB.shape)"
   ]
  },
  {
   "cell_type": "code",
   "execution_count": null,
   "metadata": {
    "id": "9kxBDYApYwL-"
   },
   "outputs": [],
   "source": [
    "k, nsigma = 30, 3.0\n",
    "modelA = rhmf.RHMF(k, nsigma)\n",
    "modelA.train(YA, WA)"
   ]
  },
  {
   "cell_type": "code",
   "execution_count": null,
   "metadata": {
    "id": "2BCii8esZsIx"
   },
   "outputs": [],
   "source": [
    "def plot_components(model, title, savefig=None):\n",
    "    for k, g in enumerate(modelA.G):\n",
    "        plt.plot(wavelength_grid, g + 0.15 * k)\n",
    "    plt.xlabel(\"wavelength\")\n",
    "    plt.ylabel(\"spectral component (plus offset)\")\n",
    "    plt.title(title)\n",
    "    if savefig is not None:\n",
    "        plt.savefig(savefig)\n",
    "\n",
    "plot_components(modelA, \"model A\", savefig=\"modelA.png\")"
   ]
  },
  {
   "cell_type": "code",
   "execution_count": null,
   "metadata": {},
   "outputs": [],
   "source": [
    "modelB = rhmf.RHMF(k, nsigma, G=modelA.G.copy())\n",
    "modelB.train(YB, WB)"
   ]
  },
  {
   "cell_type": "code",
   "execution_count": null,
   "metadata": {},
   "outputs": [],
   "source": [
    "plot_components(modelB, \"model B\", savefig=\"modelB.png\")"
   ]
  },
  {
   "cell_type": "code",
   "execution_count": null,
   "metadata": {},
   "outputs": [],
   "source": [
    "synthB = np.zeros_like(YB) + np.nan\n",
    "for i, (y, w) in enumerate(zip(YB, WB)):\n",
    "    synthB[i] = modelA.test(y, w)"
   ]
  },
  {
   "cell_type": "code",
   "execution_count": null,
   "metadata": {},
   "outputs": [],
   "source": [
    "cache = \"./rvs_plot_cache\"\n",
    "os.makedirs(cache, exist_ok=True)\n",
    "\n",
    "for ii in range(len(YB)):\n",
    "    f = plt.figure()\n",
    "    plt.plot(wavelength_grid, synthB[ii], \"r-\", lw=1, alpha=0.5)\n",
    "    plt.plot(wavelength_grid, YB[ii], \"k-\")\n",
    "    plt.plot(wavelength_grid, YB[ii] - synthB[ii], \"k-\")\n",
    "    plt.title(source_ids[ii])\n",
    "    plt.savefig(f\"{cache}/{source_ids[ii]}.png\")\n",
    "    plt.close(f)"
   ]
  },
  {
   "cell_type": "code",
   "execution_count": null,
   "metadata": {},
   "outputs": [],
   "source": []
  }
 ],
 "metadata": {
  "colab": {
   "authorship_tag": "ABX9TyP+aB/is81+OGHVYDpVC1JW",
   "include_colab_link": true,
   "provenance": []
  },
  "kernelspec": {
   "display_name": "Python 3 (ipykernel)",
   "language": "python",
   "name": "python3"
  },
  "language_info": {
   "codemirror_mode": {
    "name": "ipython",
    "version": 3
   },
   "file_extension": ".py",
   "mimetype": "text/x-python",
   "name": "python",
   "nbconvert_exporter": "python",
   "pygments_lexer": "ipython3",
   "version": "3.9.6"
  }
 },
 "nbformat": 4,
 "nbformat_minor": 4
}
