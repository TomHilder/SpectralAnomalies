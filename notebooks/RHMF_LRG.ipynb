{
 "cells": [
  {
   "cell_type": "markdown",
   "id": "79318e9a-bfd5-40f8-92a6-8421f7e1b5f4",
   "metadata": {},
   "source": [
    "# RHMF on *SDSS* *eBOSS* LRGs\n",
    "Looking for second redshifts, maybe?\n",
    "\n",
    "## Author:\n",
    "- **David W. Hogg** (NYU) (MPIA) (Flatiron)\n",
    "- with help from **Claude** (Anthropic) and consulting from **Hans-Walter Rix** (MPIA)\n",
    "\n",
    "## License:\n",
    "Copyright 2025 the author. This code is released for re-use under the open-source *MIT License*.\n",
    "\n",
    "## Issues:\n",
    "- How to select interesting objects after test step?\n",
    "- Maybe should have some code that reads the whole cache and deletes any bad files?\n",
    "- Should have at least 2 models -- maybe 5-ish -- for comparisons.\n",
    "- The RHMF code has an issue where it increases the objective occasionally at the a-step or g-step. What to do / analyze?"
   ]
  },
  {
   "cell_type": "code",
   "execution_count": null,
   "id": "b79153f0-37ee-49bc-bd64-7acbd633752a",
   "metadata": {},
   "outputs": [],
   "source": [
    "import os\n",
    "import numpy as np\n",
    "import matplotlib as mpl\n",
    "import matplotlib.pylab as plt\n",
    "import clod_sdss_lrg as clod\n",
    "import rhmf"
   ]
  },
  {
   "cell_type": "code",
   "execution_count": null,
   "id": "0ff4e3c0-c9e9-439e-aa6c-3724b4efe364",
   "metadata": {},
   "outputs": [],
   "source": [
    "# set defaults\n",
    "mpl.rcParams['figure.figsize'] = (12, 4)\n",
    "cache = './sdss_lrg_cache'\n",
    "rng = np.random.default_rng(17)\n",
    "zmin, zmax = 0.20, 0.55"
   ]
  },
  {
   "cell_type": "code",
   "execution_count": null,
   "id": "93086d97-4440-4d38-b2c6-e97fecba7060",
   "metadata": {},
   "outputs": [],
   "source": [
    "# set integers\n",
    "Nmax = 15_000\n",
    "Ntrain = 1000"
   ]
  },
  {
   "cell_type": "code",
   "execution_count": null,
   "id": "9255a8e4-7e26-430d-b5ab-ef3ed25ca23e",
   "metadata": {},
   "outputs": [],
   "source": [
    "# set model parameters\n",
    "rank, nsigma = 10, 2.5\n",
    "model = rhmf.RHMF(rank, nsigma)"
   ]
  },
  {
   "cell_type": "code",
   "execution_count": null,
   "id": "692ceba9-edff-4212-9552-87093cc8a38f",
   "metadata": {},
   "outputs": [],
   "source": [
    "# get data\n",
    "\n",
    "# Initialize processor\n",
    "processor = clod.SDSSLRGProcessor(cache_dir=cache)\n",
    "\n",
    "# Process LRG sample (will use cache on subsequent runs)\n",
    "processed_spectra = processor.process_lrg_sample(max_objects=Nmax,\n",
    "                                                 z_min=zmin, z_max=zmax,\n",
    "                                                 force_reprocess=True)\n",
    "\n",
    "# To clear cache:\n",
    "# processor.clear_cache()"
   ]
  },
  {
   "cell_type": "code",
   "execution_count": null,
   "id": "88d17a88-0cec-4b95-986f-227761ba1be7",
   "metadata": {},
   "outputs": [],
   "source": [
    "# put the data into rectangular objects\n",
    "objs = np.array([o for o,s in processed_spectra.items()])\n",
    "zs = np.array([s['redshift'] for o,s in processed_spectra.items()])\n",
    "wavelengths = processor.rest_wave_grid\n",
    "Y = np.vstack([s['flux'] for o,s in processed_spectra.items()])\n",
    "W = np.vstack([s['ivar'] for o,s in processed_spectra.items()])\n",
    "print(objs.shape, zs.shape, wavelengths.shape, Y.shape, W.shape)"
   ]
  },
  {
   "cell_type": "code",
   "execution_count": null,
   "id": "3dccf7bb-f447-4e91-aaf9-6718d9775714",
   "metadata": {},
   "outputs": [],
   "source": [
    "_ = plt.hist(zs, bins=100)\n",
    "plt.xlabel(\"redshift\")\n",
    "plt.ylabel(\"number per bin\")\n",
    "plt.title(f\"full set of {len(Y)} LRGs\")"
   ]
  },
  {
   "cell_type": "code",
   "execution_count": null,
   "id": "097475ee-5545-496e-94cc-3fcf7a4e5484",
   "metadata": {},
   "outputs": [],
   "source": [
    "# get rid of bad spectra / objects?\n",
    "goodobjects = (np.sum(W, axis=1) > (0.1 * np.median(W))) # magic\n",
    "goodobjects *= np.sum(W > 0, axis=1) > (rank + 5) # magic\n",
    "objs = objs[goodobjects]\n",
    "zs = zs[goodobjects]\n",
    "Y = Y[goodobjects]\n",
    "W = W[goodobjects]\n",
    "print(objs.shape, zs.shape, wavelengths.shape, Y.shape, W.shape)"
   ]
  },
  {
   "cell_type": "code",
   "execution_count": null,
   "id": "ac47eb0d-0dbb-4157-ad20-ae789d13c276",
   "metadata": {},
   "outputs": [],
   "source": [
    "# check data\n",
    "print(np.sum(~ np.isfinite(Y)), np.sum(~ np.isfinite(W)), np.sum(W < 0.))\n",
    "print(np.sum(W > 0.) / np.prod(W.shape))"
   ]
  },
  {
   "cell_type": "code",
   "execution_count": null,
   "id": "a5de3903-36f9-475f-9c95-887f8befe2c7",
   "metadata": {},
   "outputs": [],
   "source": [
    "information_proxy = np.percentile(W, 50., axis=1) * np.percentile(Y, 75., axis=1) ** 2"
   ]
  },
  {
   "cell_type": "code",
   "execution_count": null,
   "id": "8838509d-b01f-4784-9a47-9bbe33697e07",
   "metadata": {},
   "outputs": [],
   "source": [
    "# make training set as an index subset\n",
    "# make training set be uniform in z, because why not?\n",
    "# WARNING: This must produce an index list, not a boolean list.\n",
    "dz = (zmax - zmin) / Ntrain\n",
    "zgrid = np.arange(0.5 * dz, zmax, dz)\n",
    "foo = np.abs(zs[:, None] - zgrid[None, :])\n",
    "train = np.argmin(foo, axis=0)\n",
    "train = np.unique(train)\n",
    "Ntrain = len(train)\n",
    "print(train.shape)"
   ]
  },
  {
   "cell_type": "code",
   "execution_count": null,
   "id": "0df41591-d9cd-4c66-b912-a3b7d71c4f79",
   "metadata": {},
   "outputs": [],
   "source": [
    "test = np.ones_like(zs).astype(bool)\n",
    "test[train] = False\n",
    "test = np.arange(len(zs))[test]\n",
    "print(test.shape)"
   ]
  },
  {
   "cell_type": "code",
   "execution_count": null,
   "id": "03b8a181-6f58-4ebc-80ff-719965e3e776",
   "metadata": {},
   "outputs": [],
   "source": [
    "_ = plt.hist(zs[train], bins=100)\n",
    "plt.xlabel(\"redshift\")\n",
    "plt.ylabel(\"number per bin\")\n",
    "plt.title(f\"training set of {len(train)} LRGs\")"
   ]
  },
  {
   "cell_type": "code",
   "execution_count": null,
   "id": "3636e978-c315-4cad-b3f7-54aec04a02dc",
   "metadata": {},
   "outputs": [],
   "source": [
    "# get rid of bad wavelengths (we need good training data)\n",
    "goodwavelengths = (np.sum(W[train], axis=0) > (0.1 * np.median(W[train]))) # magic\n",
    "goodwavelengths *= np.sum(W[train] > 0, axis=0) > (rank + 5) # magic\n",
    "wavelengths = wavelengths[goodwavelengths]\n",
    "Y = Y[:, goodwavelengths]\n",
    "W = W[:, goodwavelengths]\n",
    "print(objs.shape, wavelengths.shape, Y.shape, W.shape)"
   ]
  },
  {
   "cell_type": "code",
   "execution_count": null,
   "id": "8a5d4990-8818-41c0-b06d-40281d9b0da3",
   "metadata": {},
   "outputs": [],
   "source": [
    "model.train(Y[train], W[train], maxiter=500)"
   ]
  },
  {
   "cell_type": "code",
   "execution_count": null,
   "id": "e71bcf23-894b-4bdf-8cf0-bab3d535919c",
   "metadata": {},
   "outputs": [],
   "source": [
    "model.train(Y[train], W[train], maxiter=500)"
   ]
  },
  {
   "cell_type": "code",
   "execution_count": null,
   "id": "42584ab7-2972-45c0-96d5-888a25115164",
   "metadata": {},
   "outputs": [],
   "source": [
    "# plot low-rank model\n",
    "f = plt.figure(figsize=(12, 8))\n",
    "foo = 0.1\n",
    "for k, g in enumerate(model.G):\n",
    "    plt.plot(wavelengths, g + foo * k, lw=1)\n",
    "plt.xlim(np.min(wavelengths), np.max(wavelengths))\n",
    "plt.ylim(-1. * foo, rank * foo)"
   ]
  },
  {
   "cell_type": "code",
   "execution_count": null,
   "id": "de0bbec0-d559-4734-802a-6919c7a84c75",
   "metadata": {},
   "outputs": [],
   "source": [
    "# this from Claude (Anthropic), lightly edited.\n",
    "\n",
    "nebular_lines = [\n",
    "    # Oxygen lines\n",
    "    ('O II', 372.709),\n",
    "    ('', 372.988),\n",
    "    ('', 436.444),\n",
    "    ('', 496.030),\n",
    "    ('O III', 500.824),\n",
    "    \n",
    "    # Hydrogen Balmer series\n",
    "#    ('H12', 375.122),\n",
    "#    ('H11', 377.170),\n",
    "#    ('H10', 379.898),\n",
    "#    ('H9', 383.649),\n",
    "#    ('H8', 389.015),\n",
    "    ('H_epsilon', 397.120),\n",
    "    ('H_delta', 410.289),\n",
    "    ('H_gamma', 434.168),\n",
    "    ('H_beta', 486.268),\n",
    "    ('H_alpha', 656.461),\n",
    "    \n",
    "    # Nitrogen lines\n",
    "    ('', 654.986),\n",
    "    ('', 658.527),\n",
    "    \n",
    "    # Sulfur lines\n",
    "    ('S II', 671.829),\n",
    "    ('', 673.267),\n",
    "    ('', 907.1),\n",
    "    ('S III', 953.3),\n",
    "    \n",
    "    # Helium lines\n",
    "#    ('HeI_3889', 388.975),\n",
    "#    ('HeI_4027', 402.734),\n",
    "#    ('HeI_4472', 447.276),\n",
    "    ('He I', 587.729),\n",
    "#    ('HeII_4687', 468.702),\n",
    "    \n",
    "    # Other lines\n",
    "#    ('NeIII_3869', 386.986),\n",
    "#    ('ArIII_7137', 713.777),\n",
    "]"
   ]
  },
  {
   "cell_type": "code",
   "execution_count": null,
   "id": "3392a0c8-cb1a-422b-90f5-bee7e0ee99de",
   "metadata": {},
   "outputs": [],
   "source": [
    " def plot_lines(y):\n",
    "    for label, line in nebular_lines:\n",
    "        plt.axvline(10. * line, color=\"b\", lw=1, alpha=0.4, zorder=-1001)\n",
    "        plt.text(10. * line, y, label, size=\"small\", color=\"b\", alpha=0.4,\n",
    "                 rotation=90, va=\"top\", ha=\"right\")\n",
    "\n",
    "def plot_one_spectrum(data, synth, title, fn, w=None, nolim=False):\n",
    "    f = plt.figure()\n",
    "    foo = np.percentile(data, 75.)\n",
    "    plot_lines(2.49 * foo) # magic\n",
    "    plt.step(wavelengths, data, where=\"mid\", color=\"k\", lw=1, alpha=0.75)\n",
    "    if synth is not None:\n",
    "        plt.step(wavelengths, data - synth, where=\"mid\", color=\"k\", lw=1, alpha=0.75)\n",
    "        plt.step(wavelengths, synth, where=\"mid\", color=\"r\", lw=1, alpha=0.90)\n",
    "    if w is not None:\n",
    "        tiny = 0.25 / foo ** 2\n",
    "        yerr = 1. / (np.sqrt(w) + tiny)\n",
    "        plt.fill_between(wavelengths, -3. * yerr, 3. * yerr, step=\"mid\", color=\"k\", alpha=0.20)\n",
    "    plt.axhline(0., color=\"r\", lw=1, alpha=0.90)\n",
    "    plt.semilogx()\n",
    "    xts = np.arange(1000, 9000, 1000)\n",
    "    xtsl = np.array([f\"{x:4.0f}\" for x in xts])\n",
    "    plt.xticks(ticks=xts, labels=xtsl)\n",
    "    plt.xlim(np.min(wavelengths), np.max(wavelengths))\n",
    "    if not nolim:\n",
    "        plt.ylim(-0.5 * foo, 2.5 * foo)\n",
    "    plt.title(title)\n",
    "    plt.xlabel(\"wavelength\")\n",
    "    plt.ylabel(\"flux\")\n",
    "    plt.savefig(fn)\n",
    "    plt.close(f)"
   ]
  },
  {
   "cell_type": "code",
   "execution_count": null,
   "id": "9ec84292-eb20-422d-b9aa-877bd42b9cbd",
   "metadata": {},
   "outputs": [],
   "source": [
    "# plot held-out test data with syntheses\n",
    "prefix = f\"{cache}/test-\"\n",
    "os.system(f\"rm -f {prefix}*.png\")\n",
    "for ii in test:\n",
    "    synthii = model.test(Y[ii], W[ii])\n",
    "    chiii = (Y[ii] - synthii) * np.sqrt(W[ii])\n",
    "    if np.sum(chiii > 5.) > 10: # magic magic\n",
    "        plot_one_spectrum(Y[ii], synthii, f\"test set object {objs[ii]}\",\n",
    "                          f\"{prefix}{objs[ii]}.png\", w=W[ii])"
   ]
  },
  {
   "cell_type": "code",
   "execution_count": null,
   "id": "22d09e52-5d23-413a-a7f4-b96fb2ef5b94",
   "metadata": {},
   "outputs": [],
   "source": []
  }
 ],
 "metadata": {
  "kernelspec": {
   "display_name": "Python 3 (ipykernel)",
   "language": "python",
   "name": "python3"
  },
  "language_info": {
   "codemirror_mode": {
    "name": "ipython",
    "version": 3
   },
   "file_extension": ".py",
   "mimetype": "text/x-python",
   "name": "python",
   "nbconvert_exporter": "python",
   "pygments_lexer": "ipython3",
   "version": "3.9.6"
  }
 },
 "nbformat": 4,
 "nbformat_minor": 5
}
